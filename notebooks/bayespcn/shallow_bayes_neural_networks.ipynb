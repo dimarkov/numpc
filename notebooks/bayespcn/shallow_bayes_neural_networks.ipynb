{
 "cells": [
  {
   "cell_type": "markdown",
   "id": "efae1be7",
   "metadata": {},
   "source": [
    "# Shallow Bayesian predictive coding networks"
   ]
  },
  {
   "cell_type": "markdown",
   "id": "634f32e3",
   "metadata": {},
   "source": [
    "Here we invesigate Bayesian PCNs consisting only of a single \"hidden\" layer. We will extend the standard PCN appraoch to a full Bayesian treatment of PCNs. Unlike PCNs where inference and learning relies on MAP estimates for latent variables and MLE estimate for weights, we will formulate Bayesian PCNs with defined prior over weights and the full estimate of the posterior of latent variables and weights."
   ]
  },
  {
   "cell_type": "markdown",
   "id": "258e91e7",
   "metadata": {},
   "source": [
    "The investigation is inspired by the following paper: \"Illing, Bernd, Wulfram Gerstner, and Johanni Brea. \"Biologically plausible deep learning—but how far can we go with shallow networks?.\" Neural Networks 118 (2019): 90-101\". The authors were interested to understand the limitations of shallow networks for image classification, with the aim to test local biologically plaussible learning rules. PCNs result in learning rules that are local and hebbian like, and no backpropagation beween layers is necessary, hence one naturally obtains biologically plaussible learning.  "
   ]
  },
  {
   "cell_type": "markdown",
   "id": "ce60ad9f",
   "metadata": {},
   "source": [
    "Here we will utilise the same paradigm of shallow networks, to test how Bayesian treatment of sparse PCNs changes the performance of classification algorithms. "
   ]
  },
  {
   "cell_type": "code",
   "execution_count": 1,
   "id": "63b8f499",
   "metadata": {},
   "outputs": [],
   "source": [
    "import os\n",
    "os.environ[\"XLA_PYTHON_CLIENT_PREALLOCATE\"] = \"false\"\n",
    "os.environ[\"XLA_PYTHON_CLIENT_ALLOCATOR\"] = \"platform\"\n",
    "######################################################"
   ]
  },
  {
   "cell_type": "code",
   "execution_count": 2,
   "id": "ed511925",
   "metadata": {},
   "outputs": [],
   "source": [
    "import jax.numpy as jnp\n",
    "from jax import random\n",
    "from jax.nn import one_hot\n",
    "from flax import linen as fnn\n",
    "from typing import Any, Callable, Sequence"
   ]
  },
  {
   "cell_type": "markdown",
   "id": "6fb81e09",
   "metadata": {},
   "source": [
    "Shallow neural network"
   ]
  },
  {
   "cell_type": "code",
   "execution_count": 3,
   "id": "6c97c485",
   "metadata": {},
   "outputs": [],
   "source": [
    "class DenseNet(fnn.Module):\n",
    "  \"\"\"A simple dense neural network.\"\"\"\n",
    "\n",
    "  features: Sequence[int]\n",
    "  act: Callable\n",
    "\n",
    "  @fnn.compact\n",
    "  def __call__(self, x, **kwargs):\n",
    "    x = fnn.Dense(features=self.features[0], name='dense0')(x)\n",
    "    for i, f in enumerate(self.features[1:]):\n",
    "        x = self.act(x)\n",
    "        x = fnn.Dense(features=f, name='dense{}'.format(i+1))(x)\n",
    "    \n",
    "    return x\n",
    "\n",
    "ShallowNet = lambda n, c: DenseNet([n, c], fnn.relu)"
   ]
  },
  {
   "cell_type": "code",
   "execution_count": 4,
   "id": "51da5489",
   "metadata": {},
   "outputs": [],
   "source": [
    "import numpyro\n",
    "import numpyro.distributions as dist\n",
    "from numpyro.contrib.module import flax_module\n",
    "\n",
    "def likelihood(nnet, images, labels, n, subsample_size):\n",
    "    with numpyro.plate(\"N\", n, subsample_size=subsample_size):\n",
    "        batch_x = numpyro.subsample(images, event_dim=1)\n",
    "        pred = nnet(batch_x)\n",
    "        \n",
    "        if labels is not None:\n",
    "            batch_y = numpyro.subsample(labels, event_dim=0)\n",
    "        else:\n",
    "            batch_y = None\n",
    "        \n",
    "        numpyro.sample(\n",
    "            \"obs\", dist.Categorical(logits=pred), obs=batch_y\n",
    "        )\n",
    "            \n",
    "def shallownet(images, n_neurons=1, n_labels=10, labels=None, subsample_size=None):\n",
    "    n, d = images.shape\n",
    "\n",
    "    nnet = flax_module(\"nnet\", ShallowNet(n_neurons, n_labels), input_shape=(1, d))\n",
    "\n",
    "    likelihood(nnet, images, labels, n, subsample_size)"
   ]
  },
  {
   "cell_type": "code",
   "execution_count": 5,
   "id": "e6f1940c",
   "metadata": {},
   "outputs": [],
   "source": [
    "import optax\n",
    "from numpyro.infer import SVI, Trace_ELBO, TraceMeanField_ELBO, Predictive\n",
    "def fitting_and_testing(model, train_ds, test_ds, rng_key, number_of_hidden_neurons, n_iter=10000):\n",
    "    guide = lambda *args, **kwargs: None  # MLE estimate\n",
    "    opt = optax.chain(\n",
    "        optax.clip(100.),\n",
    "        optax.adam(1e-3)\n",
    "    )\n",
    "    optimizer = numpyro.optim.optax_to_numpyro(opt)\n",
    "\n",
    "    svi = SVI(model, guide, optimizer, loss=Trace_ELBO(num_particles=1))\n",
    "    #########################################\n",
    "\n",
    "    rng_key, _rng_key = random.split(rng_key)\n",
    "\n",
    "    svi_result = svi.run(\n",
    "        _rng_key, \n",
    "        n_iter, \n",
    "        train_ds['image'],\n",
    "        n_neurons=number_of_hidden_neurons, \n",
    "        labels=train_ds['label'], \n",
    "        subsample_size=256)\n",
    "\n",
    "    params = svi_result.params\n",
    "\n",
    "    pred = Predictive(model, params={**params}, num_samples=1)\n",
    "    rng_key, _rng_key = random.split(rng_key)\n",
    "    sample = pred(_rng_key, test_ds['image'], n_neurons=number_of_hidden_neurons)\n",
    "    acc = jnp.mean(sample['obs'][0] == test_ds['label'] )\n",
    "    \n",
    "    print('model acc :', acc)\n",
    "    \n",
    "    return acc"
   ]
  },
  {
   "cell_type": "code",
   "execution_count": 6,
   "id": "7b409684",
   "metadata": {},
   "outputs": [],
   "source": [
    "from numpc.datasets import MNIST\n",
    "\n",
    "# load data\n",
    "train_ds, test_ds = MNIST()\n",
    "\n",
    "train_ds['image'] = train_ds['image'].reshape(train_ds['image'].shape[0], -1)\n",
    "test_ds['image'] = test_ds['image'].reshape(test_ds['image'].shape[0], -1)"
   ]
  },
  {
   "cell_type": "code",
   "execution_count": 7,
   "id": "7934524f",
   "metadata": {},
   "outputs": [],
   "source": [
    "num_hn = [10, 20, 40, 80, 160, 320, 640]"
   ]
  },
  {
   "cell_type": "code",
   "execution_count": 8,
   "id": "2d17a6da",
   "metadata": {
    "scrolled": false
   },
   "outputs": [
    {
     "name": "stderr",
     "output_type": "stream",
     "text": [
      "100%|█████████████████████████████████████| 20000/20000 [00:22<00:00, 880.05it/s, init loss: 140556.0625, avg. loss [19001-20000]: 10017.9873]\n"
     ]
    },
    {
     "name": "stdout",
     "output_type": "stream",
     "text": [
      "model acc : 0.9155\n"
     ]
    },
    {
     "name": "stderr",
     "output_type": "stream",
     "text": [
      "100%|██████████████████████████████████████| 20000/20000 [00:22<00:00, 881.97it/s, init loss: 139908.6406, avg. loss [19001-20000]: 4756.3457]\n"
     ]
    },
    {
     "name": "stdout",
     "output_type": "stream",
     "text": [
      "model acc : 0.94799995\n"
     ]
    },
    {
     "name": "stderr",
     "output_type": "stream",
     "text": [
      "100%|███████████████████████████████████████| 20000/20000 [00:22<00:00, 878.25it/s, init loss: 138753.6562, avg. loss [19001-20000]: 539.0934]\n"
     ]
    },
    {
     "name": "stdout",
     "output_type": "stream",
     "text": [
      "model acc : 0.965\n"
     ]
    },
    {
     "name": "stderr",
     "output_type": "stream",
     "text": [
      "100%|████████████████████████████████████████| 20000/20000 [00:22<00:00, 901.13it/s, init loss: 140794.8906, avg. loss [19001-20000]: 10.1806]\n"
     ]
    },
    {
     "name": "stdout",
     "output_type": "stream",
     "text": [
      "model acc : 0.9754\n"
     ]
    },
    {
     "name": "stderr",
     "output_type": "stream",
     "text": [
      "100%|█████████████████████████████████████████| 20000/20000 [00:22<00:00, 894.52it/s, init loss: 137953.7188, avg. loss [19001-20000]: 2.1186]\n"
     ]
    },
    {
     "name": "stdout",
     "output_type": "stream",
     "text": [
      "model acc : 0.9801\n"
     ]
    },
    {
     "name": "stderr",
     "output_type": "stream",
     "text": [
      "100%|█████████████████████████████████████████| 20000/20000 [00:21<00:00, 950.39it/s, init loss: 141077.8750, avg. loss [19001-20000]: 0.7684]\n"
     ]
    },
    {
     "name": "stdout",
     "output_type": "stream",
     "text": [
      "model acc : 0.98139995\n"
     ]
    },
    {
     "name": "stderr",
     "output_type": "stream",
     "text": [
      "100%|█████████████████████████████████████████| 20000/20000 [00:21<00:00, 933.92it/s, init loss: 140340.1875, avg. loss [19001-20000]: 0.0672]\n"
     ]
    },
    {
     "name": "stdout",
     "output_type": "stream",
     "text": [
      "model acc : 0.98319995\n"
     ]
    }
   ],
   "source": [
    "rng_key = random.PRNGKey(1001)\n",
    "\n",
    "accs = []\n",
    "for n_neurons in num_hn:\n",
    "    rng_key, _rng_key = random.split(rng_key)\n",
    "    accs.append(fitting_and_testing(shallownet, train_ds, test_ds, _rng_key, n_neurons, n_iter=20000))"
   ]
  },
  {
   "cell_type": "code",
   "execution_count": 9,
   "id": "8a08f57d",
   "metadata": {},
   "outputs": [
    {
     "data": {
      "image/png": "[encoded data removed]",
      "text/plain": [
       "<Figure size 432x288 with 1 Axes>"
      ]
     },
     "metadata": {
      "needs_background": "light"
     },
     "output_type": "display_data"
    }
   ],
   "source": [
    "import seaborn as sns\n",
    "import matplotlib.pyplot as plt\n",
    "\n",
    "plt.plot(num_hn, accs, 'o:');"
   ]
  },
  {
   "cell_type": "markdown",
   "id": "b22f9fe4",
   "metadata": {},
   "source": [
    "## Bayesian shallow neural network"
   ]
  },
  {
   "cell_type": "code",
   "execution_count": 8,
   "id": "73194e1c",
   "metadata": {},
   "outputs": [],
   "source": [
    "from numpyro.contrib.module import random_flax_module\n",
    "\n",
    "def bayes_shallownet(images, n_neurons=1, n_labels=10, labels=None, subsample_size=None):\n",
    "    n, d = images.shape\n",
    "    \n",
    "    prior = {\"dense0.bias\": dist.Cauchy(), \n",
    "             \"dense0.kernel\": dist.Normal(0., 1.),\n",
    "             \"dense1.bias\":dist.Cauchy(),\n",
    "             \"dense1.kernel\": dist.Normal(0., 1.)\n",
    "            }\n",
    "    nnet = random_flax_module('nnet', ShallowNet(n_neurons, n_labels), prior, input_shape=(1, d))\n",
    "\n",
    "    likelihood(nnet, images, labels, n, subsample_size)"
   ]
  },
  {
   "cell_type": "code",
   "execution_count": 9,
   "id": "a93f2920",
   "metadata": {},
   "outputs": [],
   "source": [
    "from numpyro.infer.autoguide import AutoDelta, AutoNormal\n",
    "from jax import device_put, devices\n",
    "\n",
    "def optimizer():    \n",
    "    def is_nn_param_fn(params):\n",
    "        # returns dict with true or false values depending on\n",
    "        # whether parameter belongs to states or to neural networks\n",
    "        out = {}\n",
    "        for name in params:\n",
    "            if 'nnet' in name:\n",
    "                out[name] = True\n",
    "            else:\n",
    "                out[name] = False\n",
    "        return out\n",
    "\n",
    "    def not_nn_param_fn(params):\n",
    "        # returns dict with true or false values depending on\n",
    "        # whether parameter belongs to states or to neural networks\n",
    "        out = {}\n",
    "        for name in params:\n",
    "            if 'nnet' in name:\n",
    "                out[name] = False\n",
    "            else:\n",
    "                out[name] = True\n",
    "        return out\n",
    "\n",
    "    optax_optim = optax.chain(\n",
    "        optax.masked(optax.adam(1e-2), not_nn_param_fn),\n",
    "        optax.masked(optax.chain(optax.clip(100.), optax.adam(1e-4)), is_nn_param_fn)\n",
    "    )\n",
    "    return numpyro.optim.optax_to_numpyro(optax_optim)\n",
    "\n",
    "def bayes_fitting_and_testing(model, train_ds, test_ds, rng_key, number_of_hidden_neurons, n_iter=10000, approx='delta'):\n",
    "    if approx == 'mean-field':\n",
    "        guide = AutoNormal(model) # Mean-feald estimate\n",
    "    else:\n",
    "        guide = AutoDelta(model)  # MAP estimate\n",
    "\n",
    "    opt = optax.chain(\n",
    "        optax.clip(100.),\n",
    "        optax.adam(1e-3)\n",
    "    )\n",
    "    optimizer = numpyro.optim.optax_to_numpyro(opt)\n",
    "    if approx == 'mean-feald':\n",
    "        svi = SVI(model, guide, optimizer, loss=TraceMeanField_ELBO(num_particles=1))\n",
    "    else:\n",
    "        svi = SVI(model, guide, optimizer, loss=Trace_ELBO(num_particles=1))\n",
    "    #########################################\n",
    "\n",
    "    rng_key, _rng_key = random.split(rng_key)\n",
    "\n",
    "    svi_result = svi.run(\n",
    "        _rng_key, \n",
    "        n_iter, \n",
    "        train_ds['image'],\n",
    "        n_neurons=number_of_hidden_neurons, \n",
    "        labels=train_ds['label'], \n",
    "        subsample_size=256)\n",
    "\n",
    "    params = svi_result.params\n",
    "    params = device_put(params, devices('cpu')[0])  \n",
    "    \n",
    "    if approx == 'delta':\n",
    "        pred = Predictive(model, guide=guide, params={**params}, num_samples=1)\n",
    "        rng_key, _rng_key = random.split(rng_key)\n",
    "        sample = pred(_rng_key, test_ds['image'], n_neurons=number_of_hidden_neurons)\n",
    "        acc = jnp.mean(sample['obs'][0] == test_ds['label'] )\n",
    "    else:\n",
    "        pred = Predictive(model, guide=guide, params={**params}, num_samples=1000)\n",
    "        rng_key, _rng_key = random.split(rng_key)\n",
    "        sample = pred(_rng_key, test_ds['image'], n_neurons=number_of_hidden_neurons)\n",
    "        pred_labels = one_hot(sample['obs'], 10).mean(0).argmax(-1)\n",
    "        acc = jnp.mean(pred_labels == test_ds['label'] )\n",
    "        \n",
    "    print('model acc :', acc)\n",
    "    \n",
    "    return acc"
   ]
  },
  {
   "cell_type": "code",
   "execution_count": 12,
   "id": "0024f8df",
   "metadata": {},
   "outputs": [
    {
     "name": "stderr",
     "output_type": "stream",
     "text": [
      "100%|█████████████████████████████████████| 20000/20000 [00:22<00:00, 895.32it/s, init loss: 276783.5000, avg. loss [19001-20000]: 18640.1699]\n"
     ]
    },
    {
     "name": "stdout",
     "output_type": "stream",
     "text": [
      "model acc : 0.9151\n"
     ]
    },
    {
     "name": "stderr",
     "output_type": "stream",
     "text": [
      "100%|█████████████████████████████████████| 20000/20000 [00:22<00:00, 887.75it/s, init loss: 330147.5312, avg. loss [19001-20000]: 20111.6016]\n"
     ]
    },
    {
     "name": "stdout",
     "output_type": "stream",
     "text": [
      "model acc : 0.94619995\n"
     ]
    },
    {
     "name": "stderr",
     "output_type": "stream",
     "text": [
      "100%|█████████████████████████████████████| 20000/20000 [00:21<00:00, 921.85it/s, init loss: 399624.1875, avg. loss [19001-20000]: 31221.2129]\n"
     ]
    },
    {
     "name": "stdout",
     "output_type": "stream",
     "text": [
      "model acc : 0.9651\n"
     ]
    },
    {
     "name": "stderr",
     "output_type": "stream",
     "text": [
      "100%|█████████████████████████████████████| 20000/20000 [00:22<00:00, 884.62it/s, init loss: 547406.6875, avg. loss [19001-20000]: 59541.8594]\n"
     ]
    },
    {
     "name": "stdout",
     "output_type": "stream",
     "text": [
      "model acc : 0.97349995\n"
     ]
    },
    {
     "name": "stderr",
     "output_type": "stream",
     "text": [
      "100%|████████████████████████████████████| 20000/20000 [00:23<00:00, 865.94it/s, init loss: 889882.3125, avg. loss [19001-20000]: 117950.3516]\n"
     ]
    },
    {
     "name": "stdout",
     "output_type": "stream",
     "text": [
      "model acc : 0.97709996\n"
     ]
    },
    {
     "name": "stderr",
     "output_type": "stream",
     "text": [
      "100%|███████████████████████████████████| 20000/20000 [00:21<00:00, 918.40it/s, init loss: 1120827.6250, avg. loss [19001-20000]: 235290.0938]\n"
     ]
    },
    {
     "name": "stdout",
     "output_type": "stream",
     "text": [
      "model acc : 0.97779995\n"
     ]
    },
    {
     "name": "stderr",
     "output_type": "stream",
     "text": [
      "100%|███████████████████████████████████| 20000/20000 [00:22<00:00, 898.09it/s, init loss: 2071813.6250, avg. loss [19001-20000]: 469827.8438]\n"
     ]
    },
    {
     "name": "stdout",
     "output_type": "stream",
     "text": [
      "model acc : 0.97639996\n"
     ]
    }
   ],
   "source": [
    "rng_key = random.PRNGKey(102301)\n",
    "\n",
    "num_hn = [10, 20, 40, 80, 160, 320, 640]\n",
    "bayes_accs = []\n",
    "for n_neurons in num_hn:\n",
    "    rng_key, _rng_key = random.split(rng_key)\n",
    "    bayes_accs.append(\n",
    "        bayes_fitting_and_testing(bayes_shallownet, train_ds, test_ds, _rng_key, n_neurons, n_iter=20000)\n",
    "    )"
   ]
  },
  {
   "cell_type": "code",
   "execution_count": 13,
   "id": "9b59a08f",
   "metadata": {},
   "outputs": [
    {
     "data": {
      "image/png": "[encoded data removed]",
      "text/plain": [
       "<Figure size 432x288 with 1 Axes>"
      ]
     },
     "metadata": {
      "needs_background": "light"
     },
     "output_type": "display_data"
    }
   ],
   "source": [
    "plt.plot(num_hn, accs, 'o:');\n",
    "plt.plot(num_hn, bayes_accs, 'o:');"
   ]
  },
  {
   "cell_type": "markdown",
   "id": "1118787c",
   "metadata": {},
   "source": [
    "## Sparse Bayesian shallow neural network"
   ]
  },
  {
   "cell_type": "code",
   "execution_count": 10,
   "id": "abfe2e42",
   "metadata": {},
   "outputs": [],
   "source": [
    "def sparse_bayes_shallownet(images, n_neurons=1, n_labels=10, labels=None, subsample_size=None):\n",
    "    '''Generative model based on the following paper\n",
    "    Ghosh, Soumya, and Finale Doshi-Velez. \n",
    "    \"Model selection in Bayesian neural networks via horseshoe priors.\" \n",
    "    arXiv preprint arXiv:1705.10388 (2017).\n",
    "    '''\n",
    "    n, d = images.shape\n",
    "    \n",
    "    bar_t0 = numpyro.sample('bar_t0', dist.InverseGamma(1/2, 1.))\n",
    "    til_t0 = numpyro.sample('til_t0', dist.InverseGamma(1/2, 1.))\n",
    "    tau0 = numpyro.deterministic('tau0', til_t0/bar_t0)\n",
    "    \n",
    "    bar_l0 = numpyro.sample('bar_l0', dist.InverseGamma(1/2, 1.).expand([n_neurons]).to_event(1))\n",
    "    til_l0 = numpyro.sample('til_l0', dist.InverseGamma(1/2, 1.).expand([n_neurons]).to_event(1))\n",
    "    lam0 = numpyro.deterministic('lam0', til_l0/bar_l0)\n",
    "    \n",
    "    b_1 = 5.\n",
    "    bar_l1 = numpyro.sample('bar_l1', dist.InverseGamma(1/2, 1.).expand([n_labels]).to_event(1))\n",
    "    til_l1 = numpyro.sample('til_l1', dist.InverseGamma(1/2, 1.).expand([n_labels]).to_event(1))\n",
    "    lam1 = numpyro.deterministic('lam1', b_1**2 * til_l1 / bar_l1)\n",
    "    \n",
    "    prior = {\"dense0.bias\": dist.Cauchy(), \n",
    "             \"dense0.kernel\": dist.Normal(0., lam0 * tau0),\n",
    "             \"dense1.bias\": dist.Cauchy(),\n",
    "             \"dense1.kernel\": dist.Normal(0., lam1)\n",
    "            }\n",
    "    nnet = random_flax_module('nnet', ShallowNet(n_neurons, n_labels), prior, input_shape=(1, d))\n",
    "\n",
    "    likelihood(nnet, images, labels, n, subsample_size)"
   ]
  },
  {
   "cell_type": "code",
   "execution_count": 11,
   "id": "bb8ecbc5",
   "metadata": {},
   "outputs": [],
   "source": [
    "from numpyro.handlers import reparam\n",
    "from numpyro.infer.reparam import LocScaleReparam\n",
    "\n",
    "reparam_config = {\n",
    "    \"nnet/dense0.kernel\": LocScaleReparam(0),\n",
    "    \"nnet/dense1.kernel\": LocScaleReparam(0),\n",
    "}\n",
    "reparam_model = reparam(\n",
    "    sparse_bayes_shallownet, config=reparam_config\n",
    ")"
   ]
  },
  {
   "cell_type": "code",
   "execution_count": 24,
   "id": "bb4f8632",
   "metadata": {},
   "outputs": [
    {
     "name": "stderr",
     "output_type": "stream",
     "text": [
      "100%|████████████████████████████████████| 20000/20000 [00:28<00:00, 706.58it/s, init loss: 6788181.5000, avg. loss [19001-20000]: 19180.7305]\n"
     ]
    },
    {
     "name": "stdout",
     "output_type": "stream",
     "text": [
      "model acc : 0.9066\n"
     ]
    },
    {
     "name": "stderr",
     "output_type": "stream",
     "text": [
      "100%|███████████████████████████████████| 20000/20000 [00:28<00:00, 693.54it/s, init loss: 27533396.0000, avg. loss [19001-20000]: 21490.5234]\n"
     ]
    },
    {
     "name": "stdout",
     "output_type": "stream",
     "text": [
      "model acc : 0.9402\n"
     ]
    },
    {
     "name": "stderr",
     "output_type": "stream",
     "text": [
      "100%|███████████████████████████████████| 20000/20000 [00:28<00:00, 692.37it/s, init loss: 17412846.0000, avg. loss [19001-20000]: 32853.9805]\n"
     ]
    },
    {
     "name": "stdout",
     "output_type": "stream",
     "text": [
      "model acc : 0.95769995\n"
     ]
    },
    {
     "name": "stderr",
     "output_type": "stream",
     "text": [
      "100%|██████████████████████████████████| 20000/20000 [00:28<00:00, 697.69it/s, init loss: 349221536.0000, avg. loss [19001-20000]: 60702.5742]\n"
     ]
    },
    {
     "name": "stdout",
     "output_type": "stream",
     "text": [
      "model acc : 0.9659\n"
     ]
    },
    {
     "name": "stderr",
     "output_type": "stream",
     "text": [
      "100%|█████████████████████████████████| 20000/20000 [00:28<00:00, 690.62it/s, init loss: 107993264.0000, avg. loss [19001-20000]: 120244.8906]\n"
     ]
    },
    {
     "name": "stdout",
     "output_type": "stream",
     "text": [
      "model acc : 0.9715\n"
     ]
    },
    {
     "name": "stderr",
     "output_type": "stream",
     "text": [
      "100%|█████████████████████████████████| 20000/20000 [00:29<00:00, 680.33it/s, init loss: 175932896.0000, avg. loss [19001-20000]: 238960.7656]\n"
     ]
    },
    {
     "name": "stdout",
     "output_type": "stream",
     "text": [
      "model acc : 0.97249997\n"
     ]
    },
    {
     "name": "stderr",
     "output_type": "stream",
     "text": [
      "100%|████████████████████████████████| 20000/20000 [00:30<00:00, 645.47it/s, init loss: 5619810304.0000, avg. loss [19001-20000]: 477615.9375]\n"
     ]
    },
    {
     "name": "stdout",
     "output_type": "stream",
     "text": [
      "model acc : 0.9748\n"
     ]
    }
   ],
   "source": [
    "rng_key = random.PRNGKey(10234501)\n",
    "\n",
    "sparse_accs = []\n",
    "for n_neurons in num_hn:\n",
    "    rng_key, _rng_key = random.split(rng_key)\n",
    "    sparse_accs.append(\n",
    "        bayes_fitting_and_testing(reparam_model, train_ds, test_ds, _rng_key, n_neurons, n_iter=20000)\n",
    "    )"
   ]
  },
  {
   "cell_type": "code",
   "execution_count": 25,
   "id": "7d61ff34",
   "metadata": {},
   "outputs": [
    {
     "data": {
      "image/png": "[encoded data removed]",
      "text/plain": [
       "<Figure size 432x288 with 1 Axes>"
      ]
     },
     "metadata": {
      "needs_background": "light"
     },
     "output_type": "display_data"
    }
   ],
   "source": [
    "plt.plot(num_hn, accs, 'o:');\n",
    "plt.plot(num_hn, bayes_accs, 'o:');\n",
    "plt.plot(num_hn, sparse_accs, 'o:');"
   ]
  },
  {
   "cell_type": "code",
   "execution_count": 12,
   "id": "b15632bf",
   "metadata": {},
   "outputs": [
    {
     "name": "stderr",
     "output_type": "stream",
     "text": [
      "100%|█████████████████████████████████| 20000/20000 [00:44<00:00, 449.69it/s, init loss: 6329416192.0000, avg. loss [19001-20000]: 23661.5938]\n"
     ]
    },
    {
     "name": "stdout",
     "output_type": "stream",
     "text": [
      "model acc : 0.9194\n"
     ]
    },
    {
     "name": "stderr",
     "output_type": "stream",
     "text": [
      "100%|██████████████████████████████████| 20000/20000 [00:44<00:00, 447.38it/s, init loss: 855923520.0000, avg. loss [19001-20000]: 20282.6289]\n"
     ]
    },
    {
     "name": "stdout",
     "output_type": "stream",
     "text": [
      "model acc : 0.94909996\n"
     ]
    },
    {
     "name": "stderr",
     "output_type": "stream",
     "text": [
      "100%|██████████████████████████████████| 20000/20000 [00:44<00:00, 447.32it/s, init loss: 474137024.0000, avg. loss [19001-20000]: 22101.1738]\n"
     ]
    },
    {
     "name": "stdout",
     "output_type": "stream",
     "text": [
      "model acc : 0.96459997\n"
     ]
    },
    {
     "name": "stderr",
     "output_type": "stream",
     "text": [
      "100%|█████████████████████████████████| 20000/20000 [00:46<00:00, 432.80it/s, init loss: 3717707776.0000, avg. loss [19001-20000]: 66037.8438]\n"
     ]
    },
    {
     "name": "stdout",
     "output_type": "stream",
     "text": [
      "model acc : 0.959\n"
     ]
    },
    {
     "name": "stderr",
     "output_type": "stream",
     "text": [
      "100%|█████████████████████████████████| 20000/20000 [00:48<00:00, 413.54it/s, init loss: 437753216.0000, avg. loss [19001-20000]: 399303.5938]\n"
     ]
    },
    {
     "name": "stdout",
     "output_type": "stream",
     "text": [
      "model acc : 0.9536\n"
     ]
    },
    {
     "name": "stderr",
     "output_type": "stream",
     "text": [
      "100%|███████████████████████████████| 20000/20000 [00:46<00:00, 426.38it/s, init loss: 12485942272.0000, avg. loss [19001-20000]: 572157.0625]\n"
     ]
    },
    {
     "name": "stdout",
     "output_type": "stream",
     "text": [
      "model acc : 0.9636\n"
     ]
    },
    {
     "name": "stderr",
     "output_type": "stream",
     "text": [
      "100%|████████████████████████████████| 20000/20000 [00:48<00:00, 414.85it/s, init loss: 7574020096.0000, avg. loss [19001-20000]: 300416.7812]\n"
     ]
    },
    {
     "name": "stdout",
     "output_type": "stream",
     "text": [
      "model acc : 0.9748\n"
     ]
    }
   ],
   "source": [
    "rng_key = random.PRNGKey(102348221)\n",
    "sparse_accs = []\n",
    "for n_neurons in num_hn:\n",
    "    rng_key, _rng_key = random.split(rng_key)\n",
    "    sparse_accs.append(\n",
    "        bayes_fitting_and_testing(reparam_model, train_ds, test_ds, _rng_key, n_neurons, n_iter=20000, approx='mean-field')\n",
    "    )"
   ]
  },
  {
   "cell_type": "markdown",
   "id": "6dc4c158",
   "metadata": {},
   "source": [
    "NOTE: Test in another notebook how changing the model structure into something similar to causal network changes the problem."
   ]
  },
  {
   "cell_type": "code",
   "execution_count": null,
   "id": "17819c1b",
   "metadata": {},
   "outputs": [],
   "source": []
  }
 ],
 "metadata": {
  "kernelspec": {
   "display_name": "Python 3 (ipykernel)",
   "language": "python",
   "name": "python3"
  },
  "language_info": {
   "codemirror_mode": {
    "name": "ipython",
    "version": 3
   },
   "file_extension": ".py",
   "mimetype": "text/x-python",
   "name": "python",
   "nbconvert_exporter": "python",
   "pygments_lexer": "ipython3",
   "version": "3.10.5"
  }
 },
 "nbformat": 4,
 "nbformat_minor": 5
}
