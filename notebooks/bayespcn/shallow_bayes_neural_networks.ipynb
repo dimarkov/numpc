{
 "cells": [
  {
   "cell_type": "markdown",
   "id": "efae1be7",
   "metadata": {},
   "source": [
    "# Shallow Bayesian predictive coding networks"
   ]
  },
  {
   "attachments": {},
   "cell_type": "markdown",
   "id": "634f32e3",
   "metadata": {},
   "source": [
    "Here we invesigate Bayesian sparse predictive coding networks consisting only of a single \"hidden\" layer. We will extend the standard PCN appraoch to a full Bayesian treatment of sparse PCNs. Unlike sparse PCNs where inference and learning relies on MAP estimates for latent variables and MLE estimate for weights, we will formulate Bayesian sparse PCNs with defined prior over weights and the full estimate of the posterior of latent variables and weights."
   ]
  },
  {
   "cell_type": "markdown",
   "id": "258e91e7",
   "metadata": {},
   "source": [
    "The investigation is inspired by the following paper: \"Illing, Bernd, Wulfram Gerstner, and Johanni Brea. \"Biologically plausible deep learning—but how far can we go with shallow networks?.\" Neural Networks 118 (2019): 90-101\". The authors were interested to understand the limitations of shallow networks for image classification, with the aim to test local biologically plaussible learning rules. PCNs result in learning rules that are local and hebbian like, and no backpropagation beween layers is necessary, hence one naturally obtains biologically plaussible learning.  "
   ]
  },
  {
   "cell_type": "markdown",
   "id": "ce60ad9f",
   "metadata": {},
   "source": [
    "Here we will utilise the same paradigm of shallow networks, to test how Bayesian treatment of sparse PCNs changes the performance of classification algorithms. "
   ]
  },
  {
   "cell_type": "code",
   "execution_count": 1,
   "id": "63b8f499",
   "metadata": {},
   "outputs": [],
   "source": [
    "import os\n",
    "# Set cuda device to use\n",
    "os.environ[\"CUDA_DEVICE_ORDER\"] = \"PCI_BUS_ID\"\n",
    "os.environ[\"CUDA_VISIBLE_DEVICES\"] = \"1\"\n",
    "\n",
    "# do not prealocate memory\n",
    "os.environ[\"XLA_PYTHON_CLIENT_PREALLOCATE\"] = \"false\"\n",
    "os.environ[\"XLA_PYTHON_CLIENT_ALLOCATOR\"] = \"platform\""
   ]
  },
  {
   "cell_type": "code",
   "execution_count": 16,
   "id": "ed511925",
   "metadata": {},
   "outputs": [],
   "source": [
    "import jax.numpy as jnp\n",
    "from jax import random\n",
    "from jax.nn import one_hot, softmax\n",
    "from flax import linen as fnn\n",
    "from typing import Any, Callable, Sequence\n",
    "import matplotlib.pyplot as plt"
   ]
  },
  {
   "cell_type": "markdown",
   "id": "6fb81e09",
   "metadata": {},
   "source": [
    "Shallow neural network"
   ]
  },
  {
   "cell_type": "code",
   "execution_count": 3,
   "id": "6c97c485",
   "metadata": {},
   "outputs": [],
   "source": [
    "class DenseNet(fnn.Module):\n",
    "  \"\"\"A simple dense neural network.\"\"\"\n",
    "\n",
    "  features: Sequence[int]\n",
    "  act: Callable\n",
    "\n",
    "  @fnn.compact\n",
    "  def __call__(self, x, **kwargs):\n",
    "    x = fnn.Dense(features=self.features[0], name='dense0')(x)\n",
    "    for i, f in enumerate(self.features[1:]):\n",
    "        x = self.act(x)\n",
    "        x = fnn.Dense(features=f, name='dense{}'.format(i+1))(x)\n",
    "    \n",
    "    return x\n",
    "\n",
    "ShallowNet = lambda n, c: DenseNet([n, c], fnn.relu)"
   ]
  },
  {
   "cell_type": "code",
   "execution_count": 4,
   "id": "51da5489",
   "metadata": {},
   "outputs": [],
   "source": [
    "import numpyro\n",
    "import numpyro.distributions as dist\n",
    "from numpyro.contrib.module import flax_module\n",
    "\n",
    "def likelihood(nnet, images, labels, n, subsample_size):\n",
    "    with numpyro.plate(\"N\", n, subsample_size=subsample_size):\n",
    "        batch_x = numpyro.subsample(images, event_dim=1)\n",
    "        pred = nnet(batch_x)\n",
    "        \n",
    "        if labels is not None:\n",
    "            batch_y = numpyro.subsample(labels, event_dim=0)\n",
    "        else:\n",
    "            batch_y = None\n",
    "        \n",
    "        logits = jnp.pad(pred, ((0, 0), (0, 1)))\n",
    "        numpyro.deterministic('probs', softmax(logits, -1))\n",
    "        numpyro.sample(\n",
    "            \"obs\", dist.Categorical(logits=logits), obs=batch_y\n",
    "        )\n",
    "            \n",
    "def shallownet(images, n_neurons=1, n_labels=10, labels=None, subsample_size=None):\n",
    "    n, d = images.shape\n",
    "\n",
    "    nnet = flax_module(\"nnet\", ShallowNet(n_neurons, n_labels - 1), input_shape=(1, d))\n",
    "\n",
    "    likelihood(nnet, images, labels, n, subsample_size)"
   ]
  },
  {
   "cell_type": "code",
   "execution_count": 5,
   "id": "e6f1940c",
   "metadata": {},
   "outputs": [],
   "source": [
    "import optax\n",
    "from numpyro.infer import SVI, Trace_ELBO, TraceGraph_ELBO, TraceMeanField_ELBO, Predictive, log_likelihood\n",
    "\n",
    "def test_smpl(model, sample, images, labels, n_neurons):\n",
    "\n",
    "    probs = sample['probs'].mean(0)\n",
    "    pred_labels = probs.argmax(-1)\n",
    "\n",
    "    hit = pred_labels == labels\n",
    "    acc = hit.mean(-1)\n",
    "\n",
    "    return {\n",
    "        'acc': acc,\n",
    "    }\n",
    "\n",
    "\n",
    "def fitting_and_testing(model, train_ds, test_ds, rng_key, number_of_hidden_neurons, n_iter=10000, num_samples=1):\n",
    "    guide = lambda *args, **kwargs: None  # MLE estimate\n",
    "    opt = optax.chain(\n",
    "        optax.clip_by_global_norm(1e2),\n",
    "        optax.adabelief(1e-4)\n",
    "    )\n",
    "    optimizer = numpyro.optim.optax_to_numpyro(opt)\n",
    "\n",
    "    svi = SVI(model, guide, optimizer, loss=Trace_ELBO(num_particles=1))\n",
    "    #########################################\n",
    "\n",
    "    rng_key, _rng_key = random.split(rng_key)\n",
    "\n",
    "    svi_result = svi.run(\n",
    "        _rng_key, \n",
    "        n_iter, \n",
    "        train_ds['image'],\n",
    "        n_neurons=number_of_hidden_neurons, \n",
    "        labels=train_ds['label'], \n",
    "        subsample_size=512)\n",
    "\n",
    "    params = svi_result.params\n",
    "\n",
    "    pred = Predictive(model, params={**params}, num_samples=num_samples)\n",
    "    rng_key, _rng_key = random.split(rng_key)\n",
    "    sample = pred(_rng_key, test_ds['image'], n_neurons=number_of_hidden_neurons)\n",
    "\n",
    "    out = test_smpl(model, sample, test_ds['image'], test_ds['label'], number_of_hidden_neurons)\n",
    "    \n",
    "    print(f'acc: ', out['acc'])\n",
    "    \n",
    "    return out"
   ]
  },
  {
   "cell_type": "code",
   "execution_count": 6,
   "id": "7b409684",
   "metadata": {},
   "outputs": [],
   "source": [
    "from numpc.datasets import load_data\n",
    "\n",
    "# load data\n",
    "train_ds, test_ds = load_data('fashion_mnist')\n",
    "\n",
    "train_ds['image'] = train_ds['image'].reshape(train_ds['image'].shape[0], -1)\n",
    "test_ds['image'] = test_ds['image'].reshape(test_ds['image'].shape[0], -1)\n",
    "\n",
    "n, d = train_ds['image'].shape\n",
    "\n",
    "cov_matrix = jnp.cov(train_ds['image'].T)\n",
    "eigen_values, eigen_vectors = jnp.linalg.eigh(cov_matrix)\n",
    "\n",
    "W_pca = eigen_vectors / jnp.sqrt(eigen_values + 1/n)\n",
    "W_zca = W_pca @ eigen_vectors.T\n",
    "\n",
    "mean = train_ds['image'].mean(0)\n",
    "train_ds['image'] = (train_ds['image'] - mean) @ W_zca + mean\n",
    "\n",
    "mean = test_ds['image'].mean(0)\n",
    "test_ds['image'] = (test_ds['image'] - mean) @ W_zca + mean"
   ]
  },
  {
   "cell_type": "code",
   "execution_count": 7,
   "id": "7934524f",
   "metadata": {},
   "outputs": [],
   "source": [
    "num_hn = [40, 80, 160, 320, 640]"
   ]
  },
  {
   "cell_type": "code",
   "execution_count": 8,
   "id": "2d17a6da",
   "metadata": {
    "scrolled": false
   },
   "outputs": [
    {
     "name": "stderr",
     "output_type": "stream",
     "text": [
      "100%|██████████| 100000/100000 [01:19<00:00, 1251.03it/s, init loss: 149462.3438, avg. loss [95001-100000]: 284.5976]\n"
     ]
    },
    {
     "name": "stdout",
     "output_type": "stream",
     "text": [
      "acc:  0.811\n"
     ]
    },
    {
     "name": "stderr",
     "output_type": "stream",
     "text": [
      "100%|██████████| 100000/100000 [01:19<00:00, 1252.35it/s, init loss: 153400.7188, avg. loss [95001-100000]: 0.0165] \n"
     ]
    },
    {
     "name": "stdout",
     "output_type": "stream",
     "text": [
      "acc:  0.8236\n"
     ]
    },
    {
     "name": "stderr",
     "output_type": "stream",
     "text": [
      "100%|██████████| 100000/100000 [01:19<00:00, 1251.01it/s, init loss: 147466.9688, avg. loss [95001-100000]: 0.0000] \n"
     ]
    },
    {
     "name": "stdout",
     "output_type": "stream",
     "text": [
      "acc:  0.8397\n"
     ]
    },
    {
     "name": "stderr",
     "output_type": "stream",
     "text": [
      "100%|██████████| 100000/100000 [01:22<00:00, 1206.15it/s, init loss: 149595.7500, avg. loss [95001-100000]: 0.0000]\n"
     ]
    },
    {
     "name": "stdout",
     "output_type": "stream",
     "text": [
      "acc:  0.85639995\n"
     ]
    },
    {
     "name": "stderr",
     "output_type": "stream",
     "text": [
      "100%|██████████| 100000/100000 [01:23<00:00, 1203.20it/s, init loss: 151184.6406, avg. loss [95001-100000]: 2.2418]\n"
     ]
    },
    {
     "name": "stdout",
     "output_type": "stream",
     "text": [
      "acc:  0.8667\n"
     ]
    }
   ],
   "source": [
    "rng_key = random.PRNGKey(1001)\n",
    "\n",
    "res = []\n",
    "for n_neurons in num_hn:\n",
    "    rng_key, _rng_key = random.split(rng_key)\n",
    "    res.append(fitting_and_testing(shallownet, train_ds, test_ds, _rng_key, n_neurons, n_iter=100_000))"
   ]
  },
  {
   "cell_type": "markdown",
   "id": "b22f9fe4",
   "metadata": {},
   "source": [
    "## Bayesian shallow neural network"
   ]
  },
  {
   "cell_type": "code",
   "execution_count": 9,
   "id": "73194e1c",
   "metadata": {},
   "outputs": [],
   "source": [
    "from numpyro.contrib.module import random_flax_module\n",
    "\n",
    "def bayes_shallownet(images, n_neurons=1, n_labels=10, labels=None, subsample_size=None):\n",
    "    n, d = images.shape\n",
    "    \n",
    "    prior = {\"dense0.bias\": dist.Cauchy(), \n",
    "             \"dense0.kernel\": dist.Normal(0., 1.),\n",
    "             \"dense1.bias\":dist.Cauchy(),\n",
    "             \"dense1.kernel\": dist.Normal(0., 1.)\n",
    "            }\n",
    "    nnet = random_flax_module('nnet', ShallowNet(n_neurons, n_labels - 1), prior, input_shape=(1, d))\n",
    "\n",
    "    likelihood(nnet, images, labels, n, subsample_size)"
   ]
  },
  {
   "cell_type": "code",
   "execution_count": 10,
   "id": "a93f2920",
   "metadata": {},
   "outputs": [],
   "source": [
    "from numpyro.infer.autoguide import AutoDelta, AutoNormal\n",
    "from jax import device_put, devices\n",
    "\n",
    "def bayes_fitting_and_testing(\n",
    "    model, \n",
    "    train_ds, \n",
    "    test_ds, \n",
    "    rng_key, \n",
    "    number_of_hidden_neurons, \n",
    "    n_iter=10000, \n",
    "    approx='delta'\n",
    "):\n",
    "    if approx == 'mean-field':\n",
    "        guide = AutoNormal(model) # Mean-field\n",
    "    else:\n",
    "        guide = AutoDelta(model)  # MAP\n",
    "\n",
    "    opt = optax.chain(\n",
    "        optax.clip_by_global_norm(1e2),\n",
    "        optax.adabelief(1e-3)\n",
    "    )\n",
    "    optimizer = numpyro.optim.optax_to_numpyro(opt)\n",
    "    if approx == 'mean-field':\n",
    "        svi = SVI(model, guide, optimizer, loss=TraceGraph_ELBO(num_particles=10))\n",
    "    else:\n",
    "        svi = SVI(model, guide, optimizer, loss=TraceMeanField_ELBO(num_particles=1))\n",
    "    #########################################\n",
    "\n",
    "    rng_key, _rng_key = random.split(rng_key)\n",
    "\n",
    "    svi_result = svi.run(\n",
    "        _rng_key, \n",
    "        n_iter, \n",
    "        train_ds['image'],\n",
    "        n_neurons=number_of_hidden_neurons, \n",
    "        labels=train_ds['label'], \n",
    "        subsample_size=512)\n",
    "\n",
    "    params = svi_result.params\n",
    "    params = device_put(params, devices('cpu')[0])  \n",
    "    \n",
    "    if approx == 'delta':\n",
    "        pred = Predictive(model, guide=guide, params={**params}, num_samples=1)\n",
    "        rng_key, _rng_key = random.split(rng_key)\n",
    "        sample = pred(_rng_key, test_ds['image'], n_neurons=number_of_hidden_neurons)\n",
    "\n",
    "        out = test_smpl(model, sample, test_ds['image'], test_ds['label'], number_of_hidden_neurons)\n",
    "\n",
    "    else:\n",
    "        pred = Predictive(model, guide=guide, params={**params}, num_samples=100)\n",
    "        rng_key, _rng_key = random.split(rng_key)\n",
    "        sample = pred(_rng_key, test_ds['image'], n_neurons=number_of_hidden_neurons)\n",
    "\n",
    "        out = test_smpl(model, sample, test_ds['image'], test_ds['label'], number_of_hidden_neurons)\n",
    "        \n",
    "    print(f'acc: ', out['acc'])\n",
    "    \n",
    "    return out"
   ]
  },
  {
   "cell_type": "code",
   "execution_count": 11,
   "id": "0024f8df",
   "metadata": {},
   "outputs": [
    {
     "name": "stderr",
     "output_type": "stream",
     "text": [
      "2023-03-03 15:55:29.326486: E external/org_tensorflow/tensorflow/compiler/xla/python/pjit.cc:606] fastpath_data is none\n",
      "2023-03-03 15:55:29.342906: E external/org_tensorflow/tensorflow/compiler/xla/python/pjit.cc:606] fastpath_data is none\n",
      "100%|██████████| 200000/200000 [02:41<00:00, 1234.59it/s, init loss: 980107.5625, avg. loss [190001-200000]: 30001.1250]\n"
     ]
    },
    {
     "name": "stdout",
     "output_type": "stream",
     "text": [
      "acc:  0.8012\n"
     ]
    },
    {
     "name": "stderr",
     "output_type": "stream",
     "text": [
      "100%|██████████| 400000/400000 [13:42<00:00, 486.23it/s, init loss: 14200343.0000, avg. loss [380001-400000]: 32982.2031]\n"
     ]
    },
    {
     "name": "stdout",
     "output_type": "stream",
     "text": [
      "acc:  0.8469\n"
     ]
    },
    {
     "name": "stderr",
     "output_type": "stream",
     "text": [
      "2023-03-03 16:13:29.070937: E external/org_tensorflow/tensorflow/compiler/xla/python/pjit.cc:606] fastpath_data is none\n",
      "100%|██████████| 200000/200000 [02:51<00:00, 1162.83it/s, init loss: 1696117.2500, avg. loss [190001-200000]: 58839.6445]\n"
     ]
    },
    {
     "name": "stdout",
     "output_type": "stream",
     "text": [
      "acc:  0.8461\n"
     ]
    },
    {
     "name": "stderr",
     "output_type": "stream",
     "text": [
      "100%|██████████| 400000/400000 [14:26<00:00, 461.84it/s, init loss: 18141826.0000, avg. loss [380001-400000]: 34451.9453]\n"
     ]
    },
    {
     "name": "stdout",
     "output_type": "stream",
     "text": [
      "acc:  0.8484\n"
     ]
    },
    {
     "name": "stderr",
     "output_type": "stream",
     "text": [
      "2023-03-03 16:32:26.623330: E external/org_tensorflow/tensorflow/compiler/xla/python/pjit.cc:606] fastpath_data is none\n",
      "100%|██████████| 200000/200000 [02:55<00:00, 1140.67it/s, init loss: 2247919.5000, avg. loss [190001-200000]: 117241.3516]\n"
     ]
    },
    {
     "name": "stdout",
     "output_type": "stream",
     "text": [
      "acc:  0.8627\n"
     ]
    },
    {
     "name": "stderr",
     "output_type": "stream",
     "text": [
      "100%|██████████| 400000/400000 [17:25<00:00, 382.62it/s, init loss: 27471862.0000, avg. loss [380001-400000]: 37463.9688]\n"
     ]
    },
    {
     "name": "stdout",
     "output_type": "stream",
     "text": [
      "acc:  0.8552\n"
     ]
    },
    {
     "name": "stderr",
     "output_type": "stream",
     "text": [
      "2023-03-03 16:54:25.295821: E external/org_tensorflow/tensorflow/compiler/xla/python/pjit.cc:606] fastpath_data is none\n",
      "100%|██████████| 200000/200000 [02:52<00:00, 1160.06it/s, init loss: 3792399.5000, avg. loss [190001-200000]: 234028.7031]\n"
     ]
    },
    {
     "name": "stdout",
     "output_type": "stream",
     "text": [
      "acc:  0.86399996\n"
     ]
    },
    {
     "name": "stderr",
     "output_type": "stream",
     "text": [
      "100%|██████████| 400000/400000 [21:42<00:00, 307.08it/s, init loss: 37001152.0000, avg. loss [380001-400000]: 44480.2461] \n"
     ]
    },
    {
     "name": "stdout",
     "output_type": "stream",
     "text": [
      "acc:  0.8527\n"
     ]
    },
    {
     "name": "stderr",
     "output_type": "stream",
     "text": [
      "2023-03-03 17:20:35.312481: E external/org_tensorflow/tensorflow/compiler/xla/python/pjit.cc:606] fastpath_data is none\n",
      "100%|██████████| 200000/200000 [03:19<00:00, 1003.79it/s, init loss: 4283944.0000, avg. loss [190001-200000]: 467570.9062]\n"
     ]
    },
    {
     "name": "stdout",
     "output_type": "stream",
     "text": [
      "acc:  0.8645\n"
     ]
    },
    {
     "name": "stderr",
     "output_type": "stream",
     "text": [
      "  0%|          | 0/400000 [00:00<?, ?it/s]2023-03-03 17:24:39.048396: E external/org_tensorflow/tensorflow/compiler/xla/service/slow_operation_alarm.cc:65] Constant folding an instruction is taking > 1s:\n",
      "\n",
      "  reduce.1683 (displaying the full instruction incurs a runtime overhead. Raise your logging level to 4 or above).\n",
      "\n",
      "This isn't necessarily a bug; constant-folding is inherently a trade-off between compilation time and speed at runtime.  XLA has some guards that attempt to keep constant folding from taking too long, but fundamentally you'll always be able to come up with an input program that takes a long time.\n",
      "\n",
      "If you'd like to file a bug, run with envvar XLA_FLAGS=--xla_dump_to=/tmp/foo and attach the results.\n",
      "2023-03-03 17:24:39.273106: E external/org_tensorflow/tensorflow/compiler/xla/service/slow_operation_alarm.cc:133] The operation took 1.22513348s\n",
      "Constant folding an instruction is taking > 1s:\n",
      "\n",
      "  reduce.1683 (displaying the full instruction incurs a runtime overhead. Raise your logging level to 4 or above).\n",
      "\n",
      "This isn't necessarily a bug; constant-folding is inherently a trade-off between compilation time and speed at runtime.  XLA has some guards that attempt to keep constant folding from taking too long, but fundamentally you'll always be able to come up with an input program that takes a long time.\n",
      "\n",
      "If you'd like to file a bug, run with envvar XLA_FLAGS=--xla_dump_to=/tmp/foo and attach the results.\n",
      "100%|██████████| 400000/400000 [26:44<00:00, 249.31it/s, init loss: 54617952.0000, avg. loss [380001-400000]: 61854.1602] \n"
     ]
    },
    {
     "name": "stdout",
     "output_type": "stream",
     "text": [
      "acc:  0.8451\n"
     ]
    }
   ],
   "source": [
    "rng_key = random.PRNGKey(102301)\n",
    "\n",
    "num_hn = [40, 80, 160, 320, 640]\n",
    "map_res = []\n",
    "bayes_res = []\n",
    "for n_neurons in num_hn:\n",
    "    rng_key, _rng_key = random.split(rng_key)\n",
    "    map_res.append(\n",
    "        bayes_fitting_and_testing(bayes_shallownet, train_ds, test_ds, _rng_key, n_neurons, n_iter=200_000)\n",
    "    )\n",
    "\n",
    "    bayes_res.append(\n",
    "        bayes_fitting_and_testing(\n",
    "            bayes_shallownet, \n",
    "            train_ds, \n",
    "            test_ds, \n",
    "            _rng_key, \n",
    "            n_neurons, \n",
    "            n_iter=400_000, \n",
    "            approx='mean-field'\n",
    "        )\n",
    "    )"
   ]
  },
  {
   "cell_type": "code",
   "execution_count": 18,
   "id": "9b59a08f",
   "metadata": {},
   "outputs": [
    {
     "data": {
      "text/plain": [
       "<matplotlib.legend.Legend at 0x7f239c397d90>"
      ]
     },
     "execution_count": 18,
     "metadata": {},
     "output_type": "execute_result"
    },
    {
     "data": {
      "image/png": "[encoded data removed]",
      "text/plain": [
       "<Figure size 640x480 with 1 Axes>"
      ]
     },
     "metadata": {},
     "output_type": "display_data"
    }
   ],
   "source": [
    "plt.plot(num_hn, [r['acc'] for r in res], 'o:', label='MLE');\n",
    "plt.plot(num_hn, [r['acc'] for r in map_res], 'o:', label='MAP');\n",
    "plt.plot(num_hn, [r['acc'] for r in bayes_res], 'o:', label='MF');\n",
    "\n",
    "plt.legend()"
   ]
  },
  {
   "cell_type": "markdown",
   "id": "1118787c",
   "metadata": {},
   "source": [
    "## Sparse Bayesian shallow neural network"
   ]
  },
  {
   "cell_type": "code",
   "execution_count": null,
   "id": "abfe2e42",
   "metadata": {},
   "outputs": [],
   "source": [
    "def sparse_bayes_shallownet(images, n_neurons=1, n_labels=10, labels=None, subsample_size=None):\n",
    "    '''Generative model based on the following paper\n",
    "    Ghosh, Soumya, and Finale Doshi-Velez. \n",
    "    \"Model selection in Bayesian neural networks via horseshoe priors.\" \n",
    "    arXiv preprint arXiv:1705.10388 (2017).\n",
    "    '''\n",
    "    n, d = images.shape\n",
    "    \n",
    "    bar_t0 = numpyro.sample('bar_t0', dist.InverseGamma(1/2, 1.))\n",
    "    til_t0 = numpyro.sample('til_t0', dist.InverseGamma(1/2, 1.))\n",
    "    tau0 = numpyro.deterministic('tau0', til_t0/bar_t0)\n",
    "    \n",
    "    bar_l0 = numpyro.sample('bar_l0', dist.InverseGamma(1/2, 1.).expand([n_neurons]).to_event(1))\n",
    "    til_l0 = numpyro.sample('til_l0', dist.InverseGamma(1/2, 1.).expand([n_neurons]).to_event(1))\n",
    "    lam0 = numpyro.deterministic('lam0', til_l0/bar_l0)\n",
    "    \n",
    "    b_1 = 5.\n",
    "    bar_l1 = numpyro.sample('bar_l1', dist.InverseGamma(1/2, 1.).expand([n_labels]).to_event(1))\n",
    "    til_l1 = numpyro.sample('til_l1', dist.InverseGamma(1/2, 1.).expand([n_labels]).to_event(1))\n",
    "    lam1 = numpyro.deterministic('lam1', b_1**2 * til_l1 / bar_l1)\n",
    "    \n",
    "    prior = {\"dense0.bias\": dist.Cauchy(), \n",
    "             \"dense0.kernel\": dist.Normal(0., lam0 * tau0),\n",
    "             \"dense1.bias\": dist.Cauchy(),\n",
    "             \"dense1.kernel\": dist.Normal(0., lam1)\n",
    "            }\n",
    "    nnet = random_flax_module('nnet', ShallowNet(n_neurons, n_labels), prior, input_shape=(1, d))\n",
    "\n",
    "    likelihood(nnet, images, labels, n, subsample_size)"
   ]
  },
  {
   "cell_type": "code",
   "execution_count": null,
   "id": "bb8ecbc5",
   "metadata": {},
   "outputs": [],
   "source": [
    "from numpyro.handlers import reparam\n",
    "from numpyro.infer.reparam import LocScaleReparam\n",
    "\n",
    "reparam_config = {\n",
    "    \"nnet/dense0.kernel\": LocScaleReparam(0),\n",
    "    \"nnet/dense1.kernel\": LocScaleReparam(0),\n",
    "}\n",
    "reparam_model = reparam(\n",
    "    sparse_bayes_shallownet, config=reparam_config\n",
    ")"
   ]
  },
  {
   "cell_type": "code",
   "execution_count": null,
   "id": "bb4f8632",
   "metadata": {},
   "outputs": [
    {
     "name": "stderr",
     "output_type": "stream",
     "text": [
      "100%|████████████████████████████████████| 20000/20000 [00:28<00:00, 706.58it/s, init loss: 6788181.5000, avg. loss [19001-20000]: 19180.7305]\n"
     ]
    },
    {
     "name": "stdout",
     "output_type": "stream",
     "text": [
      "model acc : 0.9066\n"
     ]
    },
    {
     "name": "stderr",
     "output_type": "stream",
     "text": [
      "100%|███████████████████████████████████| 20000/20000 [00:28<00:00, 693.54it/s, init loss: 27533396.0000, avg. loss [19001-20000]: 21490.5234]\n"
     ]
    },
    {
     "name": "stdout",
     "output_type": "stream",
     "text": [
      "model acc : 0.9402\n"
     ]
    },
    {
     "name": "stderr",
     "output_type": "stream",
     "text": [
      "100%|███████████████████████████████████| 20000/20000 [00:28<00:00, 692.37it/s, init loss: 17412846.0000, avg. loss [19001-20000]: 32853.9805]\n"
     ]
    },
    {
     "name": "stdout",
     "output_type": "stream",
     "text": [
      "model acc : 0.95769995\n"
     ]
    },
    {
     "name": "stderr",
     "output_type": "stream",
     "text": [
      "100%|██████████████████████████████████| 20000/20000 [00:28<00:00, 697.69it/s, init loss: 349221536.0000, avg. loss [19001-20000]: 60702.5742]\n"
     ]
    },
    {
     "name": "stdout",
     "output_type": "stream",
     "text": [
      "model acc : 0.9659\n"
     ]
    },
    {
     "name": "stderr",
     "output_type": "stream",
     "text": [
      "100%|█████████████████████████████████| 20000/20000 [00:28<00:00, 690.62it/s, init loss: 107993264.0000, avg. loss [19001-20000]: 120244.8906]\n"
     ]
    },
    {
     "name": "stdout",
     "output_type": "stream",
     "text": [
      "model acc : 0.9715\n"
     ]
    },
    {
     "name": "stderr",
     "output_type": "stream",
     "text": [
      "100%|█████████████████████████████████| 20000/20000 [00:29<00:00, 680.33it/s, init loss: 175932896.0000, avg. loss [19001-20000]: 238960.7656]\n"
     ]
    },
    {
     "name": "stdout",
     "output_type": "stream",
     "text": [
      "model acc : 0.97249997\n"
     ]
    },
    {
     "name": "stderr",
     "output_type": "stream",
     "text": [
      "100%|████████████████████████████████| 20000/20000 [00:30<00:00, 645.47it/s, init loss: 5619810304.0000, avg. loss [19001-20000]: 477615.9375]\n"
     ]
    },
    {
     "name": "stdout",
     "output_type": "stream",
     "text": [
      "model acc : 0.9748\n"
     ]
    }
   ],
   "source": [
    "rng_key = random.PRNGKey(10234501)\n",
    "\n",
    "sparse_accs = []\n",
    "for n_neurons in num_hn:\n",
    "    rng_key, _rng_key = random.split(rng_key)\n",
    "    sparse_accs.append(\n",
    "        bayes_fitting_and_testing(reparam_model, train_ds, test_ds, _rng_key, n_neurons, n_iter=20000)\n",
    "    )"
   ]
  },
  {
   "cell_type": "code",
   "execution_count": null,
   "id": "7d61ff34",
   "metadata": {},
   "outputs": [
    {
     "data": {
      "image/png": "[encoded data removed]",
      "text/plain": [
       "<Figure size 432x288 with 1 Axes>"
      ]
     },
     "metadata": {
      "needs_background": "light"
     },
     "output_type": "display_data"
    }
   ],
   "source": [
    "plt.plot(num_hn, accs, 'o:');\n",
    "plt.plot(num_hn, bayes_accs, 'o:');\n",
    "plt.plot(num_hn, sparse_accs, 'o:');"
   ]
  },
  {
   "cell_type": "code",
   "execution_count": null,
   "id": "b15632bf",
   "metadata": {},
   "outputs": [
    {
     "name": "stderr",
     "output_type": "stream",
     "text": [
      "100%|█████████████████████████████████| 20000/20000 [00:44<00:00, 449.69it/s, init loss: 6329416192.0000, avg. loss [19001-20000]: 23661.5938]\n"
     ]
    },
    {
     "name": "stdout",
     "output_type": "stream",
     "text": [
      "model acc : 0.9194\n"
     ]
    },
    {
     "name": "stderr",
     "output_type": "stream",
     "text": [
      "100%|██████████████████████████████████| 20000/20000 [00:44<00:00, 447.38it/s, init loss: 855923520.0000, avg. loss [19001-20000]: 20282.6289]\n"
     ]
    },
    {
     "name": "stdout",
     "output_type": "stream",
     "text": [
      "model acc : 0.94909996\n"
     ]
    },
    {
     "name": "stderr",
     "output_type": "stream",
     "text": [
      "100%|██████████████████████████████████| 20000/20000 [00:44<00:00, 447.32it/s, init loss: 474137024.0000, avg. loss [19001-20000]: 22101.1738]\n"
     ]
    },
    {
     "name": "stdout",
     "output_type": "stream",
     "text": [
      "model acc : 0.96459997\n"
     ]
    },
    {
     "name": "stderr",
     "output_type": "stream",
     "text": [
      "100%|█████████████████████████████████| 20000/20000 [00:46<00:00, 432.80it/s, init loss: 3717707776.0000, avg. loss [19001-20000]: 66037.8438]\n"
     ]
    },
    {
     "name": "stdout",
     "output_type": "stream",
     "text": [
      "model acc : 0.959\n"
     ]
    },
    {
     "name": "stderr",
     "output_type": "stream",
     "text": [
      "100%|█████████████████████████████████| 20000/20000 [00:48<00:00, 413.54it/s, init loss: 437753216.0000, avg. loss [19001-20000]: 399303.5938]\n"
     ]
    },
    {
     "name": "stdout",
     "output_type": "stream",
     "text": [
      "model acc : 0.9536\n"
     ]
    },
    {
     "name": "stderr",
     "output_type": "stream",
     "text": [
      "100%|███████████████████████████████| 20000/20000 [00:46<00:00, 426.38it/s, init loss: 12485942272.0000, avg. loss [19001-20000]: 572157.0625]\n"
     ]
    },
    {
     "name": "stdout",
     "output_type": "stream",
     "text": [
      "model acc : 0.9636\n"
     ]
    },
    {
     "name": "stderr",
     "output_type": "stream",
     "text": [
      "100%|████████████████████████████████| 20000/20000 [00:48<00:00, 414.85it/s, init loss: 7574020096.0000, avg. loss [19001-20000]: 300416.7812]\n"
     ]
    },
    {
     "name": "stdout",
     "output_type": "stream",
     "text": [
      "model acc : 0.9748\n"
     ]
    }
   ],
   "source": [
    "rng_key = random.PRNGKey(102348221)\n",
    "sparse_accs = []\n",
    "for n_neurons in num_hn:\n",
    "    rng_key, _rng_key = random.split(rng_key)\n",
    "    sparse_accs.append(\n",
    "        bayes_fitting_and_testing(reparam_model, train_ds, test_ds, _rng_key, n_neurons, n_iter=20000, approx='mean-field')\n",
    "    )"
   ]
  }
 ],
 "metadata": {
  "kernelspec": {
   "display_name": "Python 3",
   "language": "python",
   "name": "python3"
  },
  "language_info": {
   "codemirror_mode": {
    "name": "ipython",
    "version": 3
   },
   "file_extension": ".py",
   "mimetype": "text/x-python",
   "name": "python",
   "nbconvert_exporter": "python",
   "pygments_lexer": "ipython3",
   "version": "3.10.10"
  },
  "vscode": {
   "interpreter": {
    "hash": "553198d067acadfe49645d8a3821ec55d43bed203cb36aab95e937fb8af2d459"
   }
  }
 },
 "nbformat": 4,
 "nbformat_minor": 5
}
