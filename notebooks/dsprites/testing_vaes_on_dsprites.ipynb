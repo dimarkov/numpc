{
 "cells": [
  {
   "cell_type": "code",
   "execution_count": 1,
   "metadata": {},
   "outputs": [],
   "source": [
    "import os\n",
    "# Set cuda device to use\n",
    "os.environ[\"CUDA_DEVICE_ORDER\"] = \"PCI_BUS_ID\"\n",
    "os.environ[\"CUDA_VISIBLE_DEVICES\"] = \"0\"\n",
    "\n",
    "# do not prealocate memory\n",
    "os.environ[\"XLA_PYTHON_CLIENT_PREALLOCATE\"] = \"false\"\n",
    "os.environ[\"XLA_PYTHON_CLIENT_ALLOCATOR\"] = \"platform\""
   ]
  },
  {
   "cell_type": "code",
   "execution_count": 13,
   "metadata": {},
   "outputs": [],
   "source": [
    "import numpy as np\n",
    "import jax.numpy as jnp\n",
    "import matplotlib.pyplot as plt\n",
    "import seaborn as sns\n",
    "\n",
    "from jax import vmap\n",
    "from jaxtyping import Array\n",
    "from adsprites import DSprites"
   ]
  },
  {
   "cell_type": "code",
   "execution_count": 3,
   "metadata": {},
   "outputs": [],
   "source": [
    "task = DSprites(batch_size=64, seed=101)"
   ]
  },
  {
   "cell_type": "code",
   "execution_count": 107,
   "metadata": {},
   "outputs": [],
   "source": [
    "state = jnp.array([0, 0, 0, 0, 0, 0])\n",
    "indx = task.state_to_index(state)\n",
    "test_img = task.imgs[indx][..., 10:22, 10:22]"
   ]
  },
  {
   "cell_type": "code",
   "execution_count": 109,
   "metadata": {},
   "outputs": [
    {
     "data": {
      "text/plain": [
       "<matplotlib.image.AxesImage at 0x7f9f60218290>"
      ]
     },
     "execution_count": 109,
     "metadata": {},
     "output_type": "execute_result"
    },
    {
     "data": {
      "image/png": "[encoded data removed]",
      "text/plain": [
       "<Figure size 640x480 with 1 Axes>"
      ]
     },
     "metadata": {},
     "output_type": "display_data"
    }
   ],
   "source": [
    "plt.imshow(test_img.transpose(1, 2, 0), cmap='Greys_r')"
   ]
  },
  {
   "cell_type": "code",
   "execution_count": 110,
   "metadata": {},
   "outputs": [],
   "source": [
    "from equinox import Module\n",
    "from jax.scipy.ndimage import map_coordinates\n",
    "\n",
    "# https://kevinzakka.github.io/2017/01/10/stn-part1/\n",
    "# https://kevinzakka.github.io/2017/01/18/stn-part2/\n",
    "\n",
    "class SpatialTransformerNetwork(Module):\n",
    "    height: int \n",
    "    width: int\n",
    "    sampling_grid: Array\n",
    "    \n",
    "    def __init__(self, height, width):\n",
    "        self.height = height\n",
    "        self.width = width\n",
    "\n",
    "        # create normalized 2D grid\n",
    "        x = jnp.linspace(-1, 1, width)\n",
    "        y = jnp.linspace(-1, 1, height)\n",
    "        x_t, y_t = jnp.meshgrid(x, y)\n",
    "\n",
    "        # reshape to (xt, yt, 1)\n",
    "        ones = jnp.ones(np.prod(x_t.shape))\n",
    "        self.sampling_grid = jnp.vstack([x_t.flatten(), y_t.flatten(), ones])\n",
    "\n",
    "\n",
    "    def bilinear_sampler(self, input_img, x, y):\n",
    "        \"\"\"\n",
    "        Performs bilinear sampling of the input images according to the\n",
    "        normalized coordinates provided by the sampling grid. Note that\n",
    "        the sampling is done identically for each channel of the input.\n",
    "\n",
    "        To test if the function works properly, output image should be\n",
    "        identical to input image when theta is initialized to identity\n",
    "        transform.\n",
    "\n",
    "        Input\n",
    "        -----\n",
    "        - input_imgs: batch of images in (B, H, W, C) layout.\n",
    "        - grid: x, y which is the output of affine_grid_generator.\n",
    "\n",
    "        Returns\n",
    "        -------\n",
    "        - interpolated images according to grids. Same size as grid.\n",
    "        \"\"\"\n",
    "        # grab dimensions\n",
    "        C, H, W = input_img.shape\n",
    "\n",
    "        max_y = (H - 1)\n",
    "        max_x = (W - 1)\n",
    "\n",
    "        # rescale x and y to [0, W-1/H-1]\n",
    "        x = (x + 1.) * max_x * 0.5\n",
    "        y = (y + 1.) * max_y * 0.5\n",
    "\n",
    "        mc = lambda img: map_coordinates(img, [x, y], order=1)\n",
    "        out = vmap(mc)(input_img)\n",
    "\n",
    "        return out\n",
    "\n",
    "    def __call__(self, img, θ):\n",
    "\n",
    "        M = θ.reshape(2, 3)\n",
    "        batch_grids = (M @ self.sampling_grid).reshape(2, self.height, self.width)\n",
    "        x, y = batch_grids[0], batch_grids[1]\n",
    "\n",
    "        return self.bilinear_sampler(img, x, y)\n",
    "\n",
    "stn = SpatialTransformerNetwork(64, 64)"
   ]
  },
  {
   "cell_type": "code",
   "execution_count": 114,
   "metadata": {},
   "outputs": [
    {
     "data": {
      "image/png": "[encoded data removed]",
      "text/plain": [
       "<Figure size 1200x500 with 4 Axes>"
      ]
     },
     "metadata": {},
     "output_type": "display_data"
    }
   ],
   "source": [
    "fig, axes = plt.subplots(1, 4, figsize=(12, 5), sharex=True, sharey=True)\n",
    "\n",
    "for ax in axes:\n",
    "    x = np.random.normal(size=2)\n",
    "    s = 1 + 10 * np.random.uniform()\n",
    "    θ = jnp.array([s, 0, x[0], 0, s, x[1]])\n",
    "    out_img = stn(test_img, θ)\n",
    "    ax.imshow(out_img.transpose(1, 2, 0), cmap='Greys_r')"
   ]
  },
  {
   "cell_type": "code",
   "execution_count": 120,
   "metadata": {},
   "outputs": [
    {
     "data": {
      "image/png": "[encoded data removed]",
      "text/plain": [
       "<Figure size 1200x500 with 4 Axes>"
      ]
     },
     "metadata": {},
     "output_type": "display_data"
    }
   ],
   "source": [
    "fig, axes = plt.subplots(1, 4, figsize=(12, 5), sharex=True, sharey=True)\n",
    "\n",
    "for ax in axes:\n",
    "    x = np.array([0, 0]) # np.random.normal(size=2)\n",
    "    s = 2 * np.random.uniform() - 1\n",
    "    cos = 4 * s\n",
    "    sin = 4 * jnp.sqrt(1 - s ** 2)\n",
    "    θ = jnp.array([cos, - sin, x[0], sin, cos, x[1]])\n",
    "    out_img = stn(test_img, θ)\n",
    "    ax.imshow(out_img.transpose(1, 2, 0), cmap='Greys_r')"
   ]
  },
  {
   "cell_type": "code",
   "execution_count": 115,
   "metadata": {},
   "outputs": [
    {
     "data": {
      "image/png": "[encoded data removed]",
      "text/plain": [
       "<Figure size 1200x500 with 4 Axes>"
      ]
     },
     "metadata": {},
     "output_type": "display_data"
    }
   ],
   "source": [
    "fig, axes = plt.subplots(1, 4, figsize=(12, 5), sharex=True, sharey=True)\n",
    "\n",
    "for ax in axes:\n",
    "    θ = np.random.normal(size=6)\n",
    "    out_img = stn(test_img, θ)\n",
    "    ax.imshow(out_img.transpose(1, 2, 0), cmap='Greys_r')"
   ]
  },
  {
   "cell_type": "code",
   "execution_count": 84,
   "metadata": {},
   "outputs": [],
   "source": [
    "import equinox.nn as enn\n",
    "from equinox import filter_jit\n",
    "import jax.random as jr\n",
    "from jax import vmap\n",
    "\n",
    "nnet = enn.Linear(10, 10, key=jr.PRNGKey(0))"
   ]
  },
  {
   "cell_type": "code",
   "execution_count": 147,
   "metadata": {},
   "outputs": [],
   "source": [
    "import numpyro\n",
    "import numpyro.distributions as dist\n",
    "from numpyro.infer import Predictive, SVI, TraceGraph_ELBO\n",
    "from numpyro.handlers import seed"
   ]
  },
  {
   "cell_type": "code",
   "execution_count": 144,
   "metadata": {},
   "outputs": [],
   "source": [
    "D = 10\n",
    "decode = filter_jit(vmap(enn.Linear(D, 6, key=jr.PRNGKey(0))))\n",
    "\n",
    "def prior(stn, smpl_img, D):\n",
    "    # Sample object pose. This is a 3-dimensional vector representing x,y position and size.\n",
    "    z = numpyro.sample('z',\n",
    "                          dist.Normal(jnp.zeros(D), jnp.ones(D)).to_event(1)\n",
    "                        )\n",
    "    θ = decode(z)    \n",
    "    # Position/scale object within larger image.\n",
    "    y = vmap(stn, in_axes=(None, 0))(smpl_img, θ)\n",
    "    return y\n",
    "\n",
    "def model(stn, smpl_img, D, batch_size=32, data=None):\n",
    "    N = batch_size if data is None else len(data)\n",
    "    with numpyro.plate('batch', N, subsample_size=batch_size):\n",
    "      obs = numpyro.subsample(data, event_dim=3) if data is not None else None\n",
    "      loc = prior(stn, smpl_img, D)\n",
    "      scale = 0.1\n",
    "      numpyro.sample('obs', dist.Normal(loc, scale).to_event(3), obs=obs)\n",
    "\n",
    "def guide(stn, smpl_img, D, batch_size=32, data=None):\n",
    "   assert data is not None\n",
    "   N = len(data)\n",
    "   with numpyro.plate('batch', N, subsample_size=batch_size):\n",
    "      obs = numpyro.subsample(data, event_dim=3)\n",
    "      loc, scale = encoder(obs)\n",
    "      numpyro.sample('z', \n",
    "                     dist.Normal(loc, scale).to_event(1)\n",
    "                     )"
   ]
  },
  {
   "cell_type": "code",
   "execution_count": 145,
   "metadata": {},
   "outputs": [],
   "source": [
    "with seed(rng_seed=0):\n",
    "    model(stn, test_img, 10)"
   ]
  },
  {
   "cell_type": "code",
   "execution_count": 148,
   "metadata": {},
   "outputs": [],
   "source": [
    "pred = Predictive(model, num_samples=1)\n",
    "\n",
    "samples = pred(jr.PRNGKey(0), stn, test_img, 10)"
   ]
  },
  {
   "cell_type": "code",
   "execution_count": 149,
   "metadata": {},
   "outputs": [
    {
     "data": {
      "text/plain": [
       "(1, 32, 1, 64, 64)"
      ]
     },
     "execution_count": 149,
     "metadata": {},
     "output_type": "execute_result"
    }
   ],
   "source": [
    "samples['obs'].shape"
   ]
  },
  {
   "cell_type": "code",
   "execution_count": null,
   "metadata": {},
   "outputs": [],
   "source": []
  }
 ],
 "metadata": {
  "kernelspec": {
   "display_name": "numpc",
   "language": "python",
   "name": "python3"
  },
  "language_info": {
   "codemirror_mode": {
    "name": "ipython",
    "version": 3
   },
   "file_extension": ".py",
   "mimetype": "text/x-python",
   "name": "python",
   "nbconvert_exporter": "python",
   "pygments_lexer": "ipython3",
   "version": "3.11.6"
  }
 },
 "nbformat": 4,
 "nbformat_minor": 2
}
